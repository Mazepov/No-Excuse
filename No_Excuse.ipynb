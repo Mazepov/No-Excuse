{
  "nbformat": 4,
  "nbformat_minor": 0,
  "metadata": {
    "colab": {
      "name": "MapProject_FirstPath_finished_with_bar.ipynb",
      "provenance": []
    },
    "kernelspec": {
      "name": "python3",
      "display_name": "Python 3"
    },
    "language_info": {
      "name": "python"
    }
  },
  "cells": [
    {
      "cell_type": "markdown",
      "source": [
        "Устанавливаем и импортируем необходимые библиотеки"
      ],
      "metadata": {
        "id": "h0MA-_82L0Po"
      }
    },
    {
      "cell_type": "code",
      "source": [
        "#Установка\n",
        "!pip install folium\n",
        "!pip install geopy\n",
        "!pip install gmaps"
      ],
      "metadata": {
        "id": "027tppBr4jzS"
      },
      "execution_count": null,
      "outputs": []
    },
    {
      "cell_type": "code",
      "execution_count": null,
      "metadata": {
        "id": "B1ec6foy4TWR"
      },
      "outputs": [],
      "source": [
        "#Библиотеки\n",
        "import numpy as np\n",
        "import pandas as pd\n",
        "\n",
        "import folium\n",
        "from folium import plugins\n",
        "import gmaps\n",
        "\n",
        "from geopy.geocoders import Nominatim\n",
        "\n",
        "import requests\n",
        "\n",
        "import re\n",
        "import json"
      ]
    },
    {
      "cell_type": "markdown",
      "source": [
        "**Функция определяет центральную координату.**\n",
        "\n",
        "\n",
        "\n",
        "---\n",
        "\n",
        "\n",
        "\n",
        "Функция является основной по поиску координаты центральной точки (Барицентр).\n",
        "\n",
        "Суть функции в подсчёте средней координаты по X и Y."
      ],
      "metadata": {
        "id": "xoUdzyzBL6yO"
      }
    },
    {
      "cell_type": "code",
      "source": [
        "#Центр по координатам\n",
        "def center(adresses):\n",
        "\n",
        "  \"\"\"\n",
        "  Barycenter\n",
        "  The essence of the function is to calculate the average X and Y coordinates.\n",
        "  Output -> tuple(latitude, longitude)\n",
        "  \"\"\"\n",
        "\n",
        "  list_x = []\n",
        "  list_y = []\n",
        "\n",
        "  for i in range(len(adresses)):\n",
        "    list_x.append(float(adresses[i][0]))\n",
        "    list_y.append(float(adresses[i][1]))\n",
        "\n",
        "  x = np.array(list_x)\n",
        "  y = np.array(list_y)\n",
        "  center_point = [np.mean(x, axis=0), np.mean(y, axis=0)]\n",
        "\n",
        "  return center_point"
      ],
      "metadata": {
        "id": "KDe8fRkfQRA1"
      },
      "execution_count": null,
      "outputs": []
    },
    {
      "cell_type": "markdown",
      "source": [
        "**Адресная книга**\n",
        "\n",
        "\n",
        "\n",
        "---\n",
        "\n",
        "\n",
        "\n",
        "Создаем датасет с пользователями и адресами.\n",
        "\n",
        "Пользователи вводят данные по своей геолокации и формируется датасет данных."
      ],
      "metadata": {
        "id": "hdIraSBcMA12"
      }
    },
    {
      "cell_type": "code",
      "source": [
        "#Создаем пустой датасет\n",
        "\n",
        "adress_book = pd.DataFrame()\n",
        "adress_book['User_Name'] = None\n",
        "adress_book['City'] = None\n",
        "adress_book['Street'] = None\n",
        "adress_book['House_Number'] = None\n",
        "adress_book['Building'] = None\n",
        "adress_book['Full_adress'] = None\n",
        "\n",
        "adress_book['Coordinates'] = None"
      ],
      "metadata": {
        "id": "0NrwJPoWMFCW"
      },
      "execution_count": null,
      "outputs": []
    },
    {
      "cell_type": "code",
      "source": [
        "n = 0\n",
        "\n",
        "while True:\n",
        "\n",
        "  \"\"\"\n",
        "  Users enter data on their geolocation and a dataset is formed.\n",
        "  \"\"\"\n",
        "\n",
        "  n += 1\n",
        "  flag = input('Добавить участника? (Do you want to add a user?) ')\n",
        "  if flag == 'да' or flag == 'Да' or flag == 'Yes' or flag == 'yes':\n",
        "\n",
        "    adress_book.loc[n, 'User_Name'] = input('Введите Ваше имя (Name):')\n",
        "    adress_book.loc[n, 'City'] = input('Введите город (City):')\n",
        "    adress_book.loc[n, 'Street'] = input('Введите улицу (Street):')\n",
        "    adress_book.loc[n, 'House_Number'] = input('Введите номер дома (House number):')\n",
        "    adress_book.loc[n, 'Building'] = input('Введите корпус (если есть) (Building):')\n",
        "\n",
        "\n",
        "    if adress_book.loc[n, 'Building'] == '':\n",
        "      adress_book.loc[n, 'Full_adress'] = adress_book.loc[n, 'City'] + ' ' + adress_book.loc[n, 'Street'] + ' ' + adress_book.loc[n, 'House_Number']\n",
        "    else:\n",
        "      adress_book.loc[n, 'Full_adress'] = adress_book.loc[n, 'City'] + ' ' + adress_book.loc[n, 'Street'] + ' ' + adress_book.loc[n, 'House_Number'] + ' ' + adress_book.loc[n, 'Building']\n",
        "    print('\\n')\n",
        "\n",
        "  else:\n",
        "    break"
      ],
      "metadata": {
        "id": "ZX1ntdBjNCkf"
      },
      "execution_count": null,
      "outputs": []
    },
    {
      "cell_type": "markdown",
      "source": [
        "**Получаем координаты по адресам**\n",
        "\n",
        "\n",
        "\n",
        "---\n",
        "\n",
        "\n",
        "\n",
        "Делаем запрос в GoogleMaps по адресу и обрабатываем ответ. \n",
        "\n",
        "Вытягиваем координаты в теле ответа.\n",
        "\n",
        "Добавляем координаты в датасет."
      ],
      "metadata": {
        "id": "0qdXUCAaPHRX"
      }
    },
    {
      "cell_type": "code",
      "source": [
        "for i in range(len(adress_book)):\n",
        "\n",
        "  #Делаем запрос по адресу\n",
        "  r = requests.get('https://www.google.com/maps/search/' + adress_book.loc[i+1, 'Full_adress'])\n",
        "\n",
        "  #Регулярными выражениями находим координаты в тексте запроса\n",
        "  coord = re.findall(r'center=.+?&', r.text)[0][7:-1]\n",
        "\n",
        "  #Добавляем координаты в датасет\n",
        "  latitude = re.findall(r'.+%', coord)[0][:-1]\n",
        "  longitude = re.findall(r'C.+', coord)[0][1:]\n",
        "\n",
        "  adress_book.loc[i+1, 'Coordinates'] = (latitude, longitude)"
      ],
      "metadata": {
        "id": "YjiN2LHGpu9p"
      },
      "execution_count": null,
      "outputs": []
    },
    {
      "cell_type": "code",
      "source": [
        "#Итоговый датасет с координатами\n",
        "#Final dataset with coordinates\n",
        "\n",
        "adress_book"
      ],
      "metadata": {
        "id": "IKuMH4yE0Pq3"
      },
      "execution_count": null,
      "outputs": []
    },
    {
      "cell_type": "markdown",
      "source": [
        "**Находим центральную точку**\n",
        "\n",
        "\n",
        "\n",
        "---\n",
        "\n",
        "\n",
        "\n",
        "\n",
        "Центральная точка (Барицентр) - это среднее арифметическое положений всех точек координат пользователей."
      ],
      "metadata": {
        "id": "u5QwnzGNniEf"
      }
    },
    {
      "cell_type": "code",
      "source": [
        "#Центральная точка (Барицентр)\n",
        "\n",
        "center_point = center(list(adress_book['Coordinates']))\n",
        "center_point"
      ],
      "metadata": {
        "id": "eOwcoKM7NsGE"
      },
      "execution_count": null,
      "outputs": []
    },
    {
      "cell_type": "markdown",
      "source": [
        "**Ищем ближайший бар** (в стадии разработки)\n",
        "\n",
        "\n",
        "\n",
        "---\n",
        "\n",
        "\n",
        "\n",
        "Находим ближайший бар к ценртральной точке"
      ],
      "metadata": {
        "id": "_eCu_gzM3aNl"
      }
    },
    {
      "cell_type": "code",
      "source": [
        "#Адрес поисковика бара\n",
        "\n",
        "# bar = requests.get('https://www.google.ru/maps/search/bar/@' + f'{center_point[0]}' + ','  + f'{center_point[1]}' + ',15z' )"
      ],
      "metadata": {
        "id": "efM4s03rmNHC"
      },
      "execution_count": null,
      "outputs": []
    },
    {
      "cell_type": "code",
      "source": [
        "#Название ближайшего бара\n",
        "\n",
        "# bar_name = re.findall(r'\".+Owner', bar.text[40000:50000])[0][-50:]\n",
        "# bar_name = re.findall(r',\\\\\".+',bar_name)[0][3:-7]\n",
        "# bar_name"
      ],
      "metadata": {
        "id": "aInj5bkAtMe9"
      },
      "execution_count": null,
      "outputs": []
    },
    {
      "cell_type": "code",
      "source": [
        "#ДОСТАЕМ КООРДИНАТЫ БАРА или адрес\n",
        "\n",
        "# coor_bar = bar.text[40000:50000]"
      ],
      "metadata": {
        "id": "wADuFdjk8qrr"
      },
      "execution_count": null,
      "outputs": []
    },
    {
      "cell_type": "markdown",
      "source": [
        "**Итоговая часть**\n",
        "\n",
        "\n",
        "\n",
        "---\n",
        "\n",
        "\n",
        "\n",
        "Наносим на карту все необходимые метки."
      ],
      "metadata": {
        "id": "TO2VSsKVnP2n"
      }
    },
    {
      "cell_type": "code",
      "source": [
        "#Наносим координаты на карту\n",
        "\n",
        "m = folium.Map(location=[center_point[0], center_point[1]], zoom_start=10)\n",
        "\n",
        "#Цвет маркеров\n",
        "icon_center = folium.Icon(color=\"green\")\n",
        "\n",
        "#Маркер центра\n",
        "folium.Marker((center_point[0], center_point[1]), tooltip=\"Центр\", icon=icon_center).add_to(m)\n",
        "\n",
        "#Маркеры адресов\n",
        "for i in range(len(adress_book)):\n",
        "  folium.Marker((float(adress_book.loc[i+1, 'Coordinates'][0]), float(adress_book.loc[i+1, 'Coordinates'][1])), tooltip=adress_book.loc[i+1, 'User_Name']).add_to(m)\n",
        "\n",
        "m"
      ],
      "metadata": {
        "id": "3aNMhPoaMbr8"
      },
      "execution_count": null,
      "outputs": []
    }
  ]
}